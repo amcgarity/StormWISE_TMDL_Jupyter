{
 "cells": [
  {
   "cell_type": "markdown",
   "metadata": {},
   "source": [
    "# StormWISE_TMDL JUPITER NOTEBOOK VERSION\n",
    "## Instructions:\n",
    "1. Before running StormWISE, you must prepare an input text file in YAML format and you will specify the name of that file in a code block below.\n",
    "\n",
    "2. We then calculate and display the MAXIMUM POSSIBLE BENEFITS that can be achieved by installing Green Stormwater Infrastructure (GSI)\" AT ALL POSSIBLE SITES in the watershed.\n",
    "\n",
    "3. We then display an estimate of the TOTAL WATERSHED-WIDE INVESTMENT DOLLARS required\" to achieve maximum possible benefits\"\n",
    "\n",
    "4. You will set the displayOption variable value to select the option for showing how the maximum investment dollars and maximum possible benefits would be distributed across geographic zones, land uses, and GSI technologies.\n",
    "\n",
    "5. Then you will be asked to choose numeric values for the RUNOFF LOAD REDUCTIONS (BENEFIT LEVELS) THAT YOU ACTUALLY WANT TO ACHIEVE, using the units specified.\n",
    "\n",
    "6. StormWISE will then run its OPTIMIZATION MODEL to find the best way to allocate investment dollars among different geographic zones, land uses, and GSI technologies so as to MINIMIZE TOTAL WATERSHED-WIDE INVESTMENT DOLLARS.\n",
    "\n",
    "7. The StormWISE solution will be displayed to the screen and you will then be given several options for breaking out optimized benefits and investment dollars according to geographic zone, land use, and GSI technologies.\n",
    "\n",
    "8. You will then be invited to perform Sensitivity Analyses by entering ALTERNATIVE BENEFIT LEVELS to learn how different runoff load reductions change the total investments required and the distribution of benefits by zones, land uses and GSI technologies\""
   ]
  },
  {
   "cell_type": "markdown",
   "metadata": {},
   "source": [
    "### Set the inYamlFile variable which contains the parameters for the watershed you are modeling:"
   ]
  },
  {
   "cell_type": "code",
   "execution_count": 3,
   "metadata": {},
   "outputs": [],
   "source": [
    "import os\n",
    "import sys\n",
    "import yaml\n",
    "from copy import deepcopy\n",
    "from IPython.display import display, Markdown\n",
    "import pandas as pd\n",
    "from StormWISE_TMDL_Engine.stormwise_tmdl import stormwise\n",
    "from StormWISE_TMDL_Engine.stormwise_tmdl import evaluate_solution\n",
    "from StormWISE_TMDL_Engine.stormwise_tmdl_benefits_and_bounds import benefit_slopes\n",
    "from StormWISE_TMDL_Engine.stormwise_tmdl_benefits_and_bounds import upper_bounds\n",
    "from StormWISE_TMDL_Engine.stormwise_tmdl_benefits_and_bounds import convert_benefit_units\n",
    "from StormWISE_TMDL_Engine.stormwise_tmdl_benefits_and_bounds import format_and_convert_benefit_dict\n",
    "from Arts_Python_Tools.tools import multiply_dict_by_constant\n",
    "from Arts_Python_Tools.tools import format_dict_as_strings\n",
    "\n",
    "# Set amplPath when switching between Linux and Windows:\n",
    "#amplPath = \"ampl.mswin64/ampl\"  # note: you must also set the solver path in stormwise_tmdl.run\n",
    "amplPath = \"ampl.linux64/ampl\"   # note: you must also set the solver path in stormwise_tmdl.run\n",
    "\n",
    "with open('convert_benefits.yaml', 'r') as fin:\n",
    "    convertBenefits = yaml.load(fin)\n",
    "benefitUnits = convertBenefits['benefitUnits']\n",
    "#print(convertBenefits)\n",
    "benefitConvertUnits = convertBenefits['benefitConvertUnits']\n",
    "########\n",
    "inYamlFile = \"wingohocking.yaml\"\n",
    "########\n",
    "with open(inYamlFile, 'r') as fin:\n",
    "    inYamlDict = yaml.load(fin)\n",
    "#print(inYamlDict)"
   ]
  },
  {
   "cell_type": "markdown",
   "metadata": {},
   "source": [
    "### Code for print_benefits_investments()"
   ]
  },
  {
   "cell_type": "code",
   "execution_count": 4,
   "metadata": {},
   "outputs": [],
   "source": [
    "def print_benefits_investments(solutionDict,benefitUnits,benefitConvertUnits,displayOption):\n",
    "    benTotsByBenefit = solutionDict['benTotsByBenefit']\n",
    "    displayDict = format_and_convert_benefit_dict(benTotsByBenefit,\"%0.2f\",benefitConvertUnits,benefitUnits)\n",
    "    display(Markdown(\"**Totals for Each Benefit:**\"))\n",
    "    df = pd.DataFrame.from_dict(displayDict,'index')\n",
    "    display(df)\n",
    "    investmentTotal = solutionDict['investmentTotal']\n",
    "    investmentTotalMillions = investmentTotal/1e6\n",
    "    display(Markdown(\"Total GSI Investment Required to Obtain These Benefits:   **%0.2f Million**\\n\" % investmentTotalMillions))\n",
    "    if displayOption == 1:\n",
    "        showDict = deepcopy(solutionDict['benTotsByBenefitByZone'])\n",
    "        displayDict = format_and_convert_benefit_dict(showDict,\"%0.2f\",benefitConvertUnits,benefitUnits)\n",
    "        display(Markdown(\"**Benefits** By Zone:\"))\n",
    "        df = pd.DataFrame.from_dict(displayDict,'index')\n",
    "        display(df)\n",
    "        display(Markdown('<br>'))\n",
    "        showDict = deepcopy(solutionDict['invTotsByZone'])\n",
    "        multiply_dict_by_constant(showDict,1e-6)  # convert to $Million\n",
    "        format_dict_as_strings(showDict,\"$ %0.2f Million\")\n",
    "        display(Markdown(\"**Investment Dollars** By Zone:\"))\n",
    "        df = pd.DataFrame.from_dict(showDict,'index')\n",
    "        display(df)\n",
    "    elif displayOption == 2:\n",
    "        showDict = deepcopy(solutionDict['benTotsByBenefitByLanduse'])\n",
    "        displayDict = format_and_convert_benefit_dict(showDict,\"%0.2f\",benefitConvertUnits,benefitUnits)\n",
    "        display(Markdown(\"**Benefits** By Land Use:\"))\n",
    "        df = pd.DataFrame.from_dict(displayDict,'index')\n",
    "        display(df)\n",
    "        display(Markdown('<br>'))\n",
    "        showDict = deepcopy(solutionDict['invTotsByLanduse'])\n",
    "        multiply_dict_by_constant(showDict,1e-6)  # convert to $Million\n",
    "        format_dict_as_strings(showDict,\"$ %0.2f Million\")\n",
    "        display(Markdown(\"**Investment Dollars** By Land Use:\"))\n",
    "        df = pd.DataFrame.from_dict(showDict,'index')\n",
    "        display(df)\n",
    "    elif displayOption == 3:    \n",
    "        showDict = deepcopy(solutionDict['benTotsByBenefitByGi'])\n",
    "        displayDict = format_and_convert_benefit_dict(showDict,\"%0.2f\",benefitConvertUnits,benefitUnits)\n",
    "        display(Markdown(\"**Benefits** By GSI Technology:\"))\n",
    "        df = pd.DataFrame.from_dict(displayDict,'index')\n",
    "        display(df)\n",
    "        display(Markdown('<br>'))\n",
    "        showDict = deepcopy(solutionDict['invTotsByGi'])\n",
    "        multiply_dict_by_constant(showDict,1e-6)  # convert to $Million\n",
    "        format_dict_as_strings(showDict,\"$ %0.2f Million\")\n",
    "        display(Markdown(\"**Investment Dollars** By GSI Technology:\"))\n",
    "        df = pd.DataFrame.from_dict(showDict,'index')\n",
    "        display(df)\n",
    "    elif displayOption == 4:\n",
    "        showDict = deepcopy(solutionDict['benTotsByBenefitByZoneByLanduse'])\n",
    "        displayDict = format_and_convert_benefit_dict(showDict,\"%0.2f\",benefitConvertUnits,benefitUnits)\n",
    "        display(Markdown(\"**Benefits** By Zone AND By Landuse::\"))\n",
    "        for t in displayDict:            \n",
    "            display(Markdown(\"<br>For Benefit: **%s**:\" % t))\n",
    "            df = pd.DataFrame.from_dict(displayDict[t],'index')\n",
    "            display(df)\n",
    "        display(Markdown('<br>'))\n",
    "        showDict = deepcopy(solutionDict['invTotsByZoneByLanduse'])\n",
    "        multiply_dict_by_constant(showDict,1e-6)  # convert to $Million\n",
    "        format_dict_as_strings(showDict,\"$%0.2f Million\")\n",
    "        display(Markdown(\"**Investment Dollars** By Zone AND By Landuse:\"))\n",
    "        df = pd.DataFrame.from_dict(showDict,'index')\n",
    "        display(df)\n",
    "    elif displayOption == 5:\n",
    "        showDict = deepcopy(solutionDict['benTotsByBenefitByZoneByGi'])\n",
    "        displayDict = format_and_convert_benefit_dict(showDict,\"%0.2f\",benefitConvertUnits,benefitUnits)\n",
    "        display(Markdown(\"**Benefits** By Zone AND By GSI Technology:\"))\n",
    "        for t in displayDict:            \n",
    "            display(Markdown(\"<br>For Benefit: **%s**:\" % t))\n",
    "            df = pd.DataFrame.from_dict(displayDict[t],'index')\n",
    "            display(df)\n",
    "        display(Markdown('<br>'))\n",
    "        showDict = deepcopy(solutionDict['invTotsByZoneByGi'])\n",
    "        multiply_dict_by_constant(showDict,1e-6)  # convert to $Million\n",
    "        format_dict_as_strings(showDict,\"$%0.2f Million\")\n",
    "        display(Markdown(\"**Investment Dollars** By Zone AND By GSI Technology:\"))\n",
    "        df = pd.DataFrame.from_dict(showDict,'index')\n",
    "        display(df)\n",
    "    elif displayOption == 6:\n",
    "        showDict = deepcopy(solutionDict['benTotsByBenefitByLanduseByGi'])\n",
    "        displayDict = format_and_convert_benefit_dict(showDict,\"%0.2f\",benefitConvertUnits,benefitUnits)\n",
    "        display(Markdown(\"**Benefits** By Land Use AND By GSI Technology:\"))\n",
    "        for t in displayDict:            \n",
    "            display(Markdown(\"<br>For Benefit: **%s**:\" % t))\n",
    "            df = pd.DataFrame.from_dict(displayDict[t],'index')\n",
    "            display(df)\n",
    "        display(Markdown('<br>'))\n",
    "        showDict = deepcopy(solutionDict['invTotsByLanduseByGi'])\n",
    "        multiply_dict_by_constant(showDict,1e-6)  # convert to $Million\n",
    "        format_dict_as_strings(showDict,\"$%0.2f Million\")\n",
    "        display(Markdown(\"**Investment Dollars** By Land Use AND By GSI Technology:\"))\n",
    "        df = pd.DataFrame.from_dict(showDict,'index')\n",
    "        display(df)\n",
    "    elif displayOption == 7:\n",
    "        showDict = deepcopy(solutionDict['benefitsByZoneByLanduseByGi'])\n",
    "        displayDict = format_and_convert_benefit_dict(showDict,\"%0.4f\",benefitConvertUnits,benefitUnits)\n",
    "        display(Markdown(\"Benefits By Zone AND By Land Use AND By GSI Technology:\"))\n",
    "        for t in displayDict:            \n",
    "            display(Markdown(\"<br>For Benefit: **%s**:\" % t))\n",
    "            oneBenefitDisplayDict = displayDict[t]\n",
    "            for i in oneBenefitDisplayDict:\n",
    "                display(Markdown(\"<br>For Land Use: **%s**:\" % i))\n",
    "                df = pd.DataFrame.from_dict(oneBenefitDisplayDict[i],'index')\n",
    "                display(df)\n",
    "        display(Markdown('<br>'))\n",
    "        showDict = deepcopy(solutionDict['decisions'])\n",
    "        multiply_dict_by_constant(showDict,1e-6)  # convert to $Million\n",
    "        format_dict_as_strings(showDict,\"$%0.4f Million\")\n",
    "        display(Markdown(\"**Investment Dollars** By Zone AND By Land Use AND By GSI Technology:\"))\n",
    "        for i in showDict:            \n",
    "            display(Markdown(\"\\nFor Land Use: **%s**:\" % i))\n",
    "            df = pd.DataFrame.from_dict(showDict[i],'index')\n",
    "            display(df)\n",
    "            display(Markdown('<br>'))\n",
    "    else:\n",
    "        print(\"SORRY: your value for the variable displayOption is not valid - TRY AGAIN\")"
   ]
  },
  {
   "cell_type": "markdown",
   "metadata": {},
   "source": [
    "### Values of displayOption variable for INVESTMENT and BENEFIT details:\n",
    "\n",
    "|displayOption|How to Display|\n",
    "|---|---|\n",
    "|1|By geographic zone|\n",
    "|2|By land use|\n",
    "|3|By green infrastructure technology|\n",
    "|4|By zone and by land use\"|\n",
    "|5|By zone and by green infrastructure technology|\n",
    "|6|By land use and by green infrastructure technology|\n",
    "|7|By zone and by land use and by green infrastructure technology|"
   ]
  },
  {
   "cell_type": "markdown",
   "metadata": {},
   "source": [
    "### Set the Display Option and Generate Upper Limits on Benefits & Investments:"
   ]
  },
  {
   "cell_type": "code",
   "execution_count": 5,
   "metadata": {},
   "outputs": [
    {
     "data": {
      "text/markdown": [
       "\n",
       "\n",
       "**UPPER LIMITS ON BENEFITS & INVESTMENTS:**\n"
      ],
      "text/plain": [
       "<IPython.core.display.Markdown object>"
      ]
     },
     "metadata": {},
     "output_type": "display_data"
    },
    {
     "data": {
      "text/markdown": [
       "**Totals for Each Benefit:**"
      ],
      "text/plain": [
       "<IPython.core.display.Markdown object>"
      ]
     },
     "metadata": {},
     "output_type": "display_data"
    },
    {
     "data": {
      "text/html": [
       "<div>\n",
       "<style scoped>\n",
       "    .dataframe tbody tr th:only-of-type {\n",
       "        vertical-align: middle;\n",
       "    }\n",
       "\n",
       "    .dataframe tbody tr th {\n",
       "        vertical-align: top;\n",
       "    }\n",
       "\n",
       "    .dataframe thead th {\n",
       "        text-align: right;\n",
       "    }\n",
       "</style>\n",
       "<table border=\"1\" class=\"dataframe\">\n",
       "  <thead>\n",
       "    <tr style=\"text-align: right;\">\n",
       "      <th></th>\n",
       "      <th>0</th>\n",
       "    </tr>\n",
       "  </thead>\n",
       "  <tbody>\n",
       "    <tr>\n",
       "      <th>1_volume (Million Gallons)</th>\n",
       "      <td>693.36</td>\n",
       "    </tr>\n",
       "    <tr>\n",
       "      <th>2_sediment (Tons)</th>\n",
       "      <td>844.35</td>\n",
       "    </tr>\n",
       "    <tr>\n",
       "      <th>3_nitrogen (Pounds)</th>\n",
       "      <td>9207.16</td>\n",
       "    </tr>\n",
       "    <tr>\n",
       "      <th>4_phosphorous (Pounds)</th>\n",
       "      <td>1167.61</td>\n",
       "    </tr>\n",
       "  </tbody>\n",
       "</table>\n",
       "</div>"
      ],
      "text/plain": [
       "                                  0\n",
       "1_volume (Million Gallons)   693.36\n",
       "2_sediment (Tons)            844.35\n",
       "3_nitrogen (Pounds)         9207.16\n",
       "4_phosphorous (Pounds)      1167.61"
      ]
     },
     "metadata": {},
     "output_type": "display_data"
    },
    {
     "data": {
      "text/markdown": [
       "Total GSI Investment Required to Obtain These Benefits:   **257.46 Million**\n"
      ],
      "text/plain": [
       "<IPython.core.display.Markdown object>"
      ]
     },
     "metadata": {},
     "output_type": "display_data"
    },
    {
     "data": {
      "text/markdown": [
       "**Benefits** By GSI Technology:"
      ],
      "text/plain": [
       "<IPython.core.display.Markdown object>"
      ]
     },
     "metadata": {},
     "output_type": "display_data"
    },
    {
     "data": {
      "text/html": [
       "<div>\n",
       "<style scoped>\n",
       "    .dataframe tbody tr th:only-of-type {\n",
       "        vertical-align: middle;\n",
       "    }\n",
       "\n",
       "    .dataframe tbody tr th {\n",
       "        vertical-align: top;\n",
       "    }\n",
       "\n",
       "    .dataframe thead th {\n",
       "        text-align: right;\n",
       "    }\n",
       "</style>\n",
       "<table border=\"1\" class=\"dataframe\">\n",
       "  <thead>\n",
       "    <tr style=\"text-align: right;\">\n",
       "      <th></th>\n",
       "      <th>1_bioswale</th>\n",
       "      <th>2_rain_garden</th>\n",
       "      <th>3_tree_trench</th>\n",
       "      <th>4_rain_barrel</th>\n",
       "      <th>5_impervious_removal</th>\n",
       "      <th>6_permeable_pavement</th>\n",
       "      <th>7_green_roof</th>\n",
       "    </tr>\n",
       "  </thead>\n",
       "  <tbody>\n",
       "    <tr>\n",
       "      <th>1_volume (Million Gallons)</th>\n",
       "      <td>34.24</td>\n",
       "      <td>194.20</td>\n",
       "      <td>139.12</td>\n",
       "      <td>134.78</td>\n",
       "      <td>36.26</td>\n",
       "      <td>63.22</td>\n",
       "      <td>91.53</td>\n",
       "    </tr>\n",
       "    <tr>\n",
       "      <th>2_sediment (Tons)</th>\n",
       "      <td>154.79</td>\n",
       "      <td>204.23</td>\n",
       "      <td>179.75</td>\n",
       "      <td>194.41</td>\n",
       "      <td>47.96</td>\n",
       "      <td>56.89</td>\n",
       "      <td>6.33</td>\n",
       "    </tr>\n",
       "    <tr>\n",
       "      <th>3_nitrogen (Pounds)</th>\n",
       "      <td>438.31</td>\n",
       "      <td>1851.55</td>\n",
       "      <td>1480.69</td>\n",
       "      <td>2139.33</td>\n",
       "      <td>638.79</td>\n",
       "      <td>1086.19</td>\n",
       "      <td>1572.31</td>\n",
       "    </tr>\n",
       "    <tr>\n",
       "      <th>4_phosphorous (Pounds)</th>\n",
       "      <td>108.54</td>\n",
       "      <td>258.98</td>\n",
       "      <td>206.69</td>\n",
       "      <td>255.32</td>\n",
       "      <td>78.35</td>\n",
       "      <td>105.93</td>\n",
       "      <td>153.80</td>\n",
       "    </tr>\n",
       "  </tbody>\n",
       "</table>\n",
       "</div>"
      ],
      "text/plain": [
       "                           1_bioswale 2_rain_garden 3_tree_trench  \\\n",
       "1_volume (Million Gallons)      34.24        194.20        139.12   \n",
       "2_sediment (Tons)              154.79        204.23        179.75   \n",
       "3_nitrogen (Pounds)            438.31       1851.55       1480.69   \n",
       "4_phosphorous (Pounds)         108.54        258.98        206.69   \n",
       "\n",
       "                           4_rain_barrel 5_impervious_removal  \\\n",
       "1_volume (Million Gallons)        134.78                36.26   \n",
       "2_sediment (Tons)                 194.41                47.96   \n",
       "3_nitrogen (Pounds)              2139.33               638.79   \n",
       "4_phosphorous (Pounds)            255.32                78.35   \n",
       "\n",
       "                           6_permeable_pavement 7_green_roof  \n",
       "1_volume (Million Gallons)                63.22        91.53  \n",
       "2_sediment (Tons)                         56.89         6.33  \n",
       "3_nitrogen (Pounds)                     1086.19      1572.31  \n",
       "4_phosphorous (Pounds)                   105.93       153.80  "
      ]
     },
     "metadata": {},
     "output_type": "display_data"
    },
    {
     "data": {
      "text/markdown": [
       "<br>"
      ],
      "text/plain": [
       "<IPython.core.display.Markdown object>"
      ]
     },
     "metadata": {},
     "output_type": "display_data"
    },
    {
     "data": {
      "text/markdown": [
       "**Investment Dollars** By GSI Technology:"
      ],
      "text/plain": [
       "<IPython.core.display.Markdown object>"
      ]
     },
     "metadata": {},
     "output_type": "display_data"
    },
    {
     "data": {
      "text/html": [
       "<div>\n",
       "<style scoped>\n",
       "    .dataframe tbody tr th:only-of-type {\n",
       "        vertical-align: middle;\n",
       "    }\n",
       "\n",
       "    .dataframe tbody tr th {\n",
       "        vertical-align: top;\n",
       "    }\n",
       "\n",
       "    .dataframe thead th {\n",
       "        text-align: right;\n",
       "    }\n",
       "</style>\n",
       "<table border=\"1\" class=\"dataframe\">\n",
       "  <thead>\n",
       "    <tr style=\"text-align: right;\">\n",
       "      <th></th>\n",
       "      <th>0</th>\n",
       "    </tr>\n",
       "  </thead>\n",
       "  <tbody>\n",
       "    <tr>\n",
       "      <th>1_bioswale</th>\n",
       "      <td>$ 6.77 Million</td>\n",
       "    </tr>\n",
       "    <tr>\n",
       "      <th>2_rain_garden</th>\n",
       "      <td>$ 8.24 Million</td>\n",
       "    </tr>\n",
       "    <tr>\n",
       "      <th>3_tree_trench</th>\n",
       "      <td>$ 13.66 Million</td>\n",
       "    </tr>\n",
       "    <tr>\n",
       "      <th>4_rain_barrel</th>\n",
       "      <td>$ 17.50 Million</td>\n",
       "    </tr>\n",
       "    <tr>\n",
       "      <th>5_impervious_removal</th>\n",
       "      <td>$ 10.72 Million</td>\n",
       "    </tr>\n",
       "    <tr>\n",
       "      <th>6_permeable_pavement</th>\n",
       "      <td>$ 65.62 Million</td>\n",
       "    </tr>\n",
       "    <tr>\n",
       "      <th>7_green_roof</th>\n",
       "      <td>$ 134.95 Million</td>\n",
       "    </tr>\n",
       "  </tbody>\n",
       "</table>\n",
       "</div>"
      ],
      "text/plain": [
       "                                     0\n",
       "1_bioswale              $ 6.77 Million\n",
       "2_rain_garden           $ 8.24 Million\n",
       "3_tree_trench          $ 13.66 Million\n",
       "4_rain_barrel          $ 17.50 Million\n",
       "5_impervious_removal   $ 10.72 Million\n",
       "6_permeable_pavement   $ 65.62 Million\n",
       "7_green_roof          $ 134.95 Million"
      ]
     },
     "metadata": {},
     "output_type": "display_data"
    }
   ],
   "source": [
    "displayOption = 3\n",
    "s = benefit_slopes(inYamlDict)\n",
    "T = inYamlDict['T']\n",
    "upperBounds = upper_bounds(inYamlDict)\n",
    "upperBoundSolutionDict = evaluate_solution(upperBounds,s,inYamlDict)\n",
    "display(Markdown(\"\\n\\n**UPPER LIMITS ON BENEFITS & INVESTMENTS:**\\n\"))\n",
    "print_benefits_investments(upperBoundSolutionDict,benefitUnits,benefitConvertUnits,displayOption)  "
   ]
  },
  {
   "cell_type": "markdown",
   "metadata": {},
   "source": [
    "### Set minimum benefit levels and run the StormWISE model in a loop:"
   ]
  },
  {
   "cell_type": "code",
   "execution_count": 6,
   "metadata": {},
   "outputs": [
    {
     "data": {
      "text/markdown": [
       "### Enter Your Required Minimum Runoff Load Reductions in Specified Units:"
      ],
      "text/plain": [
       "<IPython.core.display.Markdown object>"
      ]
     },
     "metadata": {},
     "output_type": "display_data"
    },
    {
     "name": "stdout",
     "output_type": "stream",
     "text": [
      "1_volume Million Gallons (max value = 693.36):  600\n",
      "2_sediment Tons (max value = 844.35):  800\n",
      "3_nitrogen Pounds (max value = 9207.16):  9200\n",
      "4_phosphorous Pounds (max value = 1167.61):  1100\n"
     ]
    },
    {
     "data": {
      "text/markdown": [
       "## Generating Results for Benefit Levels:"
      ],
      "text/plain": [
       "<IPython.core.display.Markdown object>"
      ]
     },
     "metadata": {},
     "output_type": "display_data"
    },
    {
     "data": {
      "text/html": [
       "<div>\n",
       "<style scoped>\n",
       "    .dataframe tbody tr th:only-of-type {\n",
       "        vertical-align: middle;\n",
       "    }\n",
       "\n",
       "    .dataframe tbody tr th {\n",
       "        vertical-align: top;\n",
       "    }\n",
       "\n",
       "    .dataframe thead th {\n",
       "        text-align: right;\n",
       "    }\n",
       "</style>\n",
       "<table border=\"1\" class=\"dataframe\">\n",
       "  <thead>\n",
       "    <tr style=\"text-align: right;\">\n",
       "      <th></th>\n",
       "      <th>0</th>\n",
       "    </tr>\n",
       "  </thead>\n",
       "  <tbody>\n",
       "    <tr>\n",
       "      <th>1_volume</th>\n",
       "      <td>600</td>\n",
       "    </tr>\n",
       "    <tr>\n",
       "      <th>2_sediment</th>\n",
       "      <td>800</td>\n",
       "    </tr>\n",
       "    <tr>\n",
       "      <th>3_nitrogen</th>\n",
       "      <td>9200</td>\n",
       "    </tr>\n",
       "    <tr>\n",
       "      <th>4_phosphorous</th>\n",
       "      <td>1100</td>\n",
       "    </tr>\n",
       "  </tbody>\n",
       "</table>\n",
       "</div>"
      ],
      "text/plain": [
       "                  0\n",
       "1_volume        600\n",
       "2_sediment      800\n",
       "3_nitrogen     9200\n",
       "4_phosphorous  1100"
      ]
     },
     "metadata": {},
     "output_type": "display_data"
    },
    {
     "data": {
      "text/markdown": [
       "### Running StormWISE using AMPL with MINOS solver"
      ],
      "text/plain": [
       "<IPython.core.display.Markdown object>"
      ]
     },
     "metadata": {},
     "output_type": "display_data"
    },
    {
     "data": {
      "text/markdown": [
       "**Totals for Each Benefit:**"
      ],
      "text/plain": [
       "<IPython.core.display.Markdown object>"
      ]
     },
     "metadata": {},
     "output_type": "display_data"
    },
    {
     "data": {
      "text/html": [
       "<div>\n",
       "<style scoped>\n",
       "    .dataframe tbody tr th:only-of-type {\n",
       "        vertical-align: middle;\n",
       "    }\n",
       "\n",
       "    .dataframe tbody tr th {\n",
       "        vertical-align: top;\n",
       "    }\n",
       "\n",
       "    .dataframe thead th {\n",
       "        text-align: right;\n",
       "    }\n",
       "</style>\n",
       "<table border=\"1\" class=\"dataframe\">\n",
       "  <thead>\n",
       "    <tr style=\"text-align: right;\">\n",
       "      <th></th>\n",
       "      <th>0</th>\n",
       "    </tr>\n",
       "  </thead>\n",
       "  <tbody>\n",
       "    <tr>\n",
       "      <th>1_volume (Million Gallons)</th>\n",
       "      <td>692.95</td>\n",
       "    </tr>\n",
       "    <tr>\n",
       "      <th>2_sediment (Tons)</th>\n",
       "      <td>844.32</td>\n",
       "    </tr>\n",
       "    <tr>\n",
       "      <th>3_nitrogen (Pounds)</th>\n",
       "      <td>9200.00</td>\n",
       "    </tr>\n",
       "    <tr>\n",
       "      <th>4_phosphorous (Pounds)</th>\n",
       "      <td>1166.89</td>\n",
       "    </tr>\n",
       "  </tbody>\n",
       "</table>\n",
       "</div>"
      ],
      "text/plain": [
       "                                  0\n",
       "1_volume (Million Gallons)   692.95\n",
       "2_sediment (Tons)            844.32\n",
       "3_nitrogen (Pounds)         9200.00\n",
       "4_phosphorous (Pounds)      1166.89"
      ]
     },
     "metadata": {},
     "output_type": "display_data"
    },
    {
     "data": {
      "text/markdown": [
       "Total GSI Investment Required to Obtain These Benefits:   **256.82 Million**\n"
      ],
      "text/plain": [
       "<IPython.core.display.Markdown object>"
      ]
     },
     "metadata": {},
     "output_type": "display_data"
    },
    {
     "data": {
      "text/markdown": [
       "**Benefits** By GSI Technology:"
      ],
      "text/plain": [
       "<IPython.core.display.Markdown object>"
      ]
     },
     "metadata": {},
     "output_type": "display_data"
    },
    {
     "data": {
      "text/html": [
       "<div>\n",
       "<style scoped>\n",
       "    .dataframe tbody tr th:only-of-type {\n",
       "        vertical-align: middle;\n",
       "    }\n",
       "\n",
       "    .dataframe tbody tr th {\n",
       "        vertical-align: top;\n",
       "    }\n",
       "\n",
       "    .dataframe thead th {\n",
       "        text-align: right;\n",
       "    }\n",
       "</style>\n",
       "<table border=\"1\" class=\"dataframe\">\n",
       "  <thead>\n",
       "    <tr style=\"text-align: right;\">\n",
       "      <th></th>\n",
       "      <th>1_bioswale</th>\n",
       "      <th>2_rain_garden</th>\n",
       "      <th>3_tree_trench</th>\n",
       "      <th>4_rain_barrel</th>\n",
       "      <th>5_impervious_removal</th>\n",
       "      <th>6_permeable_pavement</th>\n",
       "      <th>7_green_roof</th>\n",
       "    </tr>\n",
       "  </thead>\n",
       "  <tbody>\n",
       "    <tr>\n",
       "      <th>1_volume (Million Gallons)</th>\n",
       "      <td>34.24</td>\n",
       "      <td>194.20</td>\n",
       "      <td>139.12</td>\n",
       "      <td>134.78</td>\n",
       "      <td>36.26</td>\n",
       "      <td>63.22</td>\n",
       "      <td>91.11</td>\n",
       "    </tr>\n",
       "    <tr>\n",
       "      <th>2_sediment (Tons)</th>\n",
       "      <td>154.79</td>\n",
       "      <td>204.23</td>\n",
       "      <td>179.75</td>\n",
       "      <td>194.41</td>\n",
       "      <td>47.96</td>\n",
       "      <td>56.89</td>\n",
       "      <td>6.30</td>\n",
       "    </tr>\n",
       "    <tr>\n",
       "      <th>3_nitrogen (Pounds)</th>\n",
       "      <td>438.31</td>\n",
       "      <td>1851.55</td>\n",
       "      <td>1480.69</td>\n",
       "      <td>2139.33</td>\n",
       "      <td>638.79</td>\n",
       "      <td>1086.19</td>\n",
       "      <td>1565.15</td>\n",
       "    </tr>\n",
       "    <tr>\n",
       "      <th>4_phosphorous (Pounds)</th>\n",
       "      <td>108.54</td>\n",
       "      <td>258.98</td>\n",
       "      <td>206.69</td>\n",
       "      <td>255.32</td>\n",
       "      <td>78.35</td>\n",
       "      <td>105.93</td>\n",
       "      <td>153.08</td>\n",
       "    </tr>\n",
       "  </tbody>\n",
       "</table>\n",
       "</div>"
      ],
      "text/plain": [
       "                           1_bioswale 2_rain_garden 3_tree_trench  \\\n",
       "1_volume (Million Gallons)      34.24        194.20        139.12   \n",
       "2_sediment (Tons)              154.79        204.23        179.75   \n",
       "3_nitrogen (Pounds)            438.31       1851.55       1480.69   \n",
       "4_phosphorous (Pounds)         108.54        258.98        206.69   \n",
       "\n",
       "                           4_rain_barrel 5_impervious_removal  \\\n",
       "1_volume (Million Gallons)        134.78                36.26   \n",
       "2_sediment (Tons)                 194.41                47.96   \n",
       "3_nitrogen (Pounds)              2139.33               638.79   \n",
       "4_phosphorous (Pounds)            255.32                78.35   \n",
       "\n",
       "                           6_permeable_pavement 7_green_roof  \n",
       "1_volume (Million Gallons)                63.22        91.11  \n",
       "2_sediment (Tons)                         56.89         6.30  \n",
       "3_nitrogen (Pounds)                     1086.19      1565.15  \n",
       "4_phosphorous (Pounds)                   105.93       153.08  "
      ]
     },
     "metadata": {},
     "output_type": "display_data"
    },
    {
     "data": {
      "text/markdown": [
       "<br>"
      ],
      "text/plain": [
       "<IPython.core.display.Markdown object>"
      ]
     },
     "metadata": {},
     "output_type": "display_data"
    },
    {
     "data": {
      "text/markdown": [
       "**Investment Dollars** By GSI Technology:"
      ],
      "text/plain": [
       "<IPython.core.display.Markdown object>"
      ]
     },
     "metadata": {},
     "output_type": "display_data"
    },
    {
     "data": {
      "text/html": [
       "<div>\n",
       "<style scoped>\n",
       "    .dataframe tbody tr th:only-of-type {\n",
       "        vertical-align: middle;\n",
       "    }\n",
       "\n",
       "    .dataframe tbody tr th {\n",
       "        vertical-align: top;\n",
       "    }\n",
       "\n",
       "    .dataframe thead th {\n",
       "        text-align: right;\n",
       "    }\n",
       "</style>\n",
       "<table border=\"1\" class=\"dataframe\">\n",
       "  <thead>\n",
       "    <tr style=\"text-align: right;\">\n",
       "      <th></th>\n",
       "      <th>0</th>\n",
       "    </tr>\n",
       "  </thead>\n",
       "  <tbody>\n",
       "    <tr>\n",
       "      <th>1_bioswale</th>\n",
       "      <td>$ 6.77 Million</td>\n",
       "    </tr>\n",
       "    <tr>\n",
       "      <th>2_rain_garden</th>\n",
       "      <td>$ 8.24 Million</td>\n",
       "    </tr>\n",
       "    <tr>\n",
       "      <th>3_tree_trench</th>\n",
       "      <td>$ 13.66 Million</td>\n",
       "    </tr>\n",
       "    <tr>\n",
       "      <th>4_rain_barrel</th>\n",
       "      <td>$ 17.50 Million</td>\n",
       "    </tr>\n",
       "    <tr>\n",
       "      <th>5_impervious_removal</th>\n",
       "      <td>$ 10.72 Million</td>\n",
       "    </tr>\n",
       "    <tr>\n",
       "      <th>6_permeable_pavement</th>\n",
       "      <td>$ 65.62 Million</td>\n",
       "    </tr>\n",
       "    <tr>\n",
       "      <th>7_green_roof</th>\n",
       "      <td>$ 134.31 Million</td>\n",
       "    </tr>\n",
       "  </tbody>\n",
       "</table>\n",
       "</div>"
      ],
      "text/plain": [
       "                                     0\n",
       "1_bioswale              $ 6.77 Million\n",
       "2_rain_garden           $ 8.24 Million\n",
       "3_tree_trench          $ 13.66 Million\n",
       "4_rain_barrel          $ 17.50 Million\n",
       "5_impervious_removal   $ 10.72 Million\n",
       "6_permeable_pavement   $ 65.62 Million\n",
       "7_green_roof          $ 134.31 Million"
      ]
     },
     "metadata": {},
     "output_type": "display_data"
    },
    {
     "name": "stdout",
     "output_type": "stream",
     "text": [
      "Do you want to run StormWISE again with different benefit levels? Y or N: y\n"
     ]
    },
    {
     "data": {
      "text/markdown": [
       "### Enter Your Required Minimum Runoff Load Reductions in Specified Units:"
      ],
      "text/plain": [
       "<IPython.core.display.Markdown object>"
      ]
     },
     "metadata": {},
     "output_type": "display_data"
    },
    {
     "name": "stdout",
     "output_type": "stream",
     "text": [
      "1_volume Million Gallons (max value = 693.36):  0\n",
      "2_sediment Tons (max value = 844.35):  0\n",
      "3_nitrogen Pounds (max value = 9207.16):  0\n",
      "4_phosphorous Pounds (max value = 1167.61):  0\n"
     ]
    },
    {
     "data": {
      "text/markdown": [
       "## Generating Results for Benefit Levels:"
      ],
      "text/plain": [
       "<IPython.core.display.Markdown object>"
      ]
     },
     "metadata": {},
     "output_type": "display_data"
    },
    {
     "data": {
      "text/html": [
       "<div>\n",
       "<style scoped>\n",
       "    .dataframe tbody tr th:only-of-type {\n",
       "        vertical-align: middle;\n",
       "    }\n",
       "\n",
       "    .dataframe tbody tr th {\n",
       "        vertical-align: top;\n",
       "    }\n",
       "\n",
       "    .dataframe thead th {\n",
       "        text-align: right;\n",
       "    }\n",
       "</style>\n",
       "<table border=\"1\" class=\"dataframe\">\n",
       "  <thead>\n",
       "    <tr style=\"text-align: right;\">\n",
       "      <th></th>\n",
       "      <th>0</th>\n",
       "    </tr>\n",
       "  </thead>\n",
       "  <tbody>\n",
       "    <tr>\n",
       "      <th>1_volume</th>\n",
       "      <td>0</td>\n",
       "    </tr>\n",
       "    <tr>\n",
       "      <th>2_sediment</th>\n",
       "      <td>0</td>\n",
       "    </tr>\n",
       "    <tr>\n",
       "      <th>3_nitrogen</th>\n",
       "      <td>0</td>\n",
       "    </tr>\n",
       "    <tr>\n",
       "      <th>4_phosphorous</th>\n",
       "      <td>0</td>\n",
       "    </tr>\n",
       "  </tbody>\n",
       "</table>\n",
       "</div>"
      ],
      "text/plain": [
       "               0\n",
       "1_volume       0\n",
       "2_sediment     0\n",
       "3_nitrogen     0\n",
       "4_phosphorous  0"
      ]
     },
     "metadata": {},
     "output_type": "display_data"
    },
    {
     "data": {
      "text/markdown": [
       "### Running StormWISE using AMPL with MINOS solver"
      ],
      "text/plain": [
       "<IPython.core.display.Markdown object>"
      ]
     },
     "metadata": {},
     "output_type": "display_data"
    },
    {
     "data": {
      "text/markdown": [
       "**Totals for Each Benefit:**"
      ],
      "text/plain": [
       "<IPython.core.display.Markdown object>"
      ]
     },
     "metadata": {},
     "output_type": "display_data"
    },
    {
     "data": {
      "text/html": [
       "<div>\n",
       "<style scoped>\n",
       "    .dataframe tbody tr th:only-of-type {\n",
       "        vertical-align: middle;\n",
       "    }\n",
       "\n",
       "    .dataframe tbody tr th {\n",
       "        vertical-align: top;\n",
       "    }\n",
       "\n",
       "    .dataframe thead th {\n",
       "        text-align: right;\n",
       "    }\n",
       "</style>\n",
       "<table border=\"1\" class=\"dataframe\">\n",
       "  <thead>\n",
       "    <tr style=\"text-align: right;\">\n",
       "      <th></th>\n",
       "      <th>0</th>\n",
       "    </tr>\n",
       "  </thead>\n",
       "  <tbody>\n",
       "    <tr>\n",
       "      <th>1_volume (Million Gallons)</th>\n",
       "      <td>0.00</td>\n",
       "    </tr>\n",
       "    <tr>\n",
       "      <th>2_sediment (Tons)</th>\n",
       "      <td>0.00</td>\n",
       "    </tr>\n",
       "    <tr>\n",
       "      <th>3_nitrogen (Pounds)</th>\n",
       "      <td>0.00</td>\n",
       "    </tr>\n",
       "    <tr>\n",
       "      <th>4_phosphorous (Pounds)</th>\n",
       "      <td>0.00</td>\n",
       "    </tr>\n",
       "  </tbody>\n",
       "</table>\n",
       "</div>"
      ],
      "text/plain": [
       "                               0\n",
       "1_volume (Million Gallons)  0.00\n",
       "2_sediment (Tons)           0.00\n",
       "3_nitrogen (Pounds)         0.00\n",
       "4_phosphorous (Pounds)      0.00"
      ]
     },
     "metadata": {},
     "output_type": "display_data"
    },
    {
     "data": {
      "text/markdown": [
       "Total GSI Investment Required to Obtain These Benefits:   **0.00 Million**\n"
      ],
      "text/plain": [
       "<IPython.core.display.Markdown object>"
      ]
     },
     "metadata": {},
     "output_type": "display_data"
    },
    {
     "data": {
      "text/markdown": [
       "**Benefits** By GSI Technology:"
      ],
      "text/plain": [
       "<IPython.core.display.Markdown object>"
      ]
     },
     "metadata": {},
     "output_type": "display_data"
    },
    {
     "data": {
      "text/html": [
       "<div>\n",
       "<style scoped>\n",
       "    .dataframe tbody tr th:only-of-type {\n",
       "        vertical-align: middle;\n",
       "    }\n",
       "\n",
       "    .dataframe tbody tr th {\n",
       "        vertical-align: top;\n",
       "    }\n",
       "\n",
       "    .dataframe thead th {\n",
       "        text-align: right;\n",
       "    }\n",
       "</style>\n",
       "<table border=\"1\" class=\"dataframe\">\n",
       "  <thead>\n",
       "    <tr style=\"text-align: right;\">\n",
       "      <th></th>\n",
       "      <th>1_bioswale</th>\n",
       "      <th>2_rain_garden</th>\n",
       "      <th>3_tree_trench</th>\n",
       "      <th>4_rain_barrel</th>\n",
       "      <th>5_impervious_removal</th>\n",
       "      <th>6_permeable_pavement</th>\n",
       "      <th>7_green_roof</th>\n",
       "    </tr>\n",
       "  </thead>\n",
       "  <tbody>\n",
       "    <tr>\n",
       "      <th>1_volume (Million Gallons)</th>\n",
       "      <td>0.00</td>\n",
       "      <td>0.00</td>\n",
       "      <td>0.00</td>\n",
       "      <td>0.00</td>\n",
       "      <td>0.00</td>\n",
       "      <td>0.00</td>\n",
       "      <td>0.00</td>\n",
       "    </tr>\n",
       "    <tr>\n",
       "      <th>2_sediment (Tons)</th>\n",
       "      <td>0.00</td>\n",
       "      <td>0.00</td>\n",
       "      <td>0.00</td>\n",
       "      <td>0.00</td>\n",
       "      <td>0.00</td>\n",
       "      <td>0.00</td>\n",
       "      <td>0.00</td>\n",
       "    </tr>\n",
       "    <tr>\n",
       "      <th>3_nitrogen (Pounds)</th>\n",
       "      <td>0.00</td>\n",
       "      <td>0.00</td>\n",
       "      <td>0.00</td>\n",
       "      <td>0.00</td>\n",
       "      <td>0.00</td>\n",
       "      <td>0.00</td>\n",
       "      <td>0.00</td>\n",
       "    </tr>\n",
       "    <tr>\n",
       "      <th>4_phosphorous (Pounds)</th>\n",
       "      <td>0.00</td>\n",
       "      <td>0.00</td>\n",
       "      <td>0.00</td>\n",
       "      <td>0.00</td>\n",
       "      <td>0.00</td>\n",
       "      <td>0.00</td>\n",
       "      <td>0.00</td>\n",
       "    </tr>\n",
       "  </tbody>\n",
       "</table>\n",
       "</div>"
      ],
      "text/plain": [
       "                           1_bioswale 2_rain_garden 3_tree_trench  \\\n",
       "1_volume (Million Gallons)       0.00          0.00          0.00   \n",
       "2_sediment (Tons)                0.00          0.00          0.00   \n",
       "3_nitrogen (Pounds)              0.00          0.00          0.00   \n",
       "4_phosphorous (Pounds)           0.00          0.00          0.00   \n",
       "\n",
       "                           4_rain_barrel 5_impervious_removal  \\\n",
       "1_volume (Million Gallons)          0.00                 0.00   \n",
       "2_sediment (Tons)                   0.00                 0.00   \n",
       "3_nitrogen (Pounds)                 0.00                 0.00   \n",
       "4_phosphorous (Pounds)              0.00                 0.00   \n",
       "\n",
       "                           6_permeable_pavement 7_green_roof  \n",
       "1_volume (Million Gallons)                 0.00         0.00  \n",
       "2_sediment (Tons)                          0.00         0.00  \n",
       "3_nitrogen (Pounds)                        0.00         0.00  \n",
       "4_phosphorous (Pounds)                     0.00         0.00  "
      ]
     },
     "metadata": {},
     "output_type": "display_data"
    },
    {
     "data": {
      "text/markdown": [
       "<br>"
      ],
      "text/plain": [
       "<IPython.core.display.Markdown object>"
      ]
     },
     "metadata": {},
     "output_type": "display_data"
    },
    {
     "data": {
      "text/markdown": [
       "**Investment Dollars** By GSI Technology:"
      ],
      "text/plain": [
       "<IPython.core.display.Markdown object>"
      ]
     },
     "metadata": {},
     "output_type": "display_data"
    },
    {
     "data": {
      "text/html": [
       "<div>\n",
       "<style scoped>\n",
       "    .dataframe tbody tr th:only-of-type {\n",
       "        vertical-align: middle;\n",
       "    }\n",
       "\n",
       "    .dataframe tbody tr th {\n",
       "        vertical-align: top;\n",
       "    }\n",
       "\n",
       "    .dataframe thead th {\n",
       "        text-align: right;\n",
       "    }\n",
       "</style>\n",
       "<table border=\"1\" class=\"dataframe\">\n",
       "  <thead>\n",
       "    <tr style=\"text-align: right;\">\n",
       "      <th></th>\n",
       "      <th>0</th>\n",
       "    </tr>\n",
       "  </thead>\n",
       "  <tbody>\n",
       "    <tr>\n",
       "      <th>1_bioswale</th>\n",
       "      <td>$ 0.00 Million</td>\n",
       "    </tr>\n",
       "    <tr>\n",
       "      <th>2_rain_garden</th>\n",
       "      <td>$ 0.00 Million</td>\n",
       "    </tr>\n",
       "    <tr>\n",
       "      <th>3_tree_trench</th>\n",
       "      <td>$ 0.00 Million</td>\n",
       "    </tr>\n",
       "    <tr>\n",
       "      <th>4_rain_barrel</th>\n",
       "      <td>$ 0.00 Million</td>\n",
       "    </tr>\n",
       "    <tr>\n",
       "      <th>5_impervious_removal</th>\n",
       "      <td>$ 0.00 Million</td>\n",
       "    </tr>\n",
       "    <tr>\n",
       "      <th>6_permeable_pavement</th>\n",
       "      <td>$ 0.00 Million</td>\n",
       "    </tr>\n",
       "    <tr>\n",
       "      <th>7_green_roof</th>\n",
       "      <td>$ 0.00 Million</td>\n",
       "    </tr>\n",
       "  </tbody>\n",
       "</table>\n",
       "</div>"
      ],
      "text/plain": [
       "                                   0\n",
       "1_bioswale            $ 0.00 Million\n",
       "2_rain_garden         $ 0.00 Million\n",
       "3_tree_trench         $ 0.00 Million\n",
       "4_rain_barrel         $ 0.00 Million\n",
       "5_impervious_removal  $ 0.00 Million\n",
       "6_permeable_pavement  $ 0.00 Million\n",
       "7_green_roof          $ 0.00 Million"
      ]
     },
     "metadata": {},
     "output_type": "display_data"
    },
    {
     "name": "stdout",
     "output_type": "stream",
     "text": [
      "Do you want to run StormWISE again with different benefit levels? Y or N: n\n",
      "StormWISE Run Completed\n"
     ]
    }
   ],
   "source": [
    "while True:\n",
    "    benefitDict = {}\n",
    "    display(Markdown(\"### Enter Your Required Minimum Runoff Load Reductions in Specified Units:\"))\n",
    "    tDict = {}\n",
    "    tDictStrings = {}\n",
    "    upperBounds = upper_bounds(inYamlDict)\n",
    "    upperBoundSolutionDict = evaluate_solution(upperBounds,s,inYamlDict)\n",
    "    maxBenefitDict = upperBoundSolutionDict['benTotsByBenefit']\n",
    "    #print(maxBenefitDict)\n",
    "    for t in T:\n",
    "        maxBenefit = (maxBenefitDict[t]*benefitConvertUnits[t])\n",
    "        maxValStr = \"{0:.2f}\".format(maxBenefit)\n",
    "        prompt = \"%s %s (max value = %s):  \" % (t,benefitUnits[t],maxValStr)\n",
    "        inString = input(prompt)\n",
    "        tDictStrings[t] = inString\n",
    "        tDict[t] = float(inString)/benefitConvertUnits[t]  # convert to fundamental units\n",
    "\n",
    "    benefitDict['benefitLowerBounds'] = tDict\n",
    "    display(Markdown(\"## Generating Results for Benefit Levels:\"))\n",
    "    df = pd.DataFrame.from_dict(tDictStrings,'index')\n",
    "    display(df)\n",
    "    display(Markdown(\"### Running StormWISE using AMPL with MINOS solver\"))\n",
    "    # running the AMPL executable from the stormwise() function\n",
    "    decisions = stormwise(amplPath,inYamlDict,benefitDict)\n",
    "    solutionDict = evaluate_solution(decisions,s,inYamlDict)\n",
    "    print_benefits_investments(solutionDict,benefitUnits,benefitConvertUnits,displayOption)\n",
    "    \n",
    "    inString = input(\"Do you want to run StormWISE again with different benefit levels? Y or N: \")\n",
    "\n",
    "    if inString == 'N' or inString == 'n':\n",
    "        print(\"StormWISE Run Completed\")\n",
    "        break"
   ]
  },
  {
   "cell_type": "code",
   "execution_count": null,
   "metadata": {},
   "outputs": [],
   "source": []
  }
 ],
 "metadata": {
  "kernelspec": {
   "display_name": "Python 3",
   "language": "python",
   "name": "python3"
  },
  "language_info": {
   "codemirror_mode": {
    "name": "ipython",
    "version": 3
   },
   "file_extension": ".py",
   "mimetype": "text/x-python",
   "name": "python",
   "nbconvert_exporter": "python",
   "pygments_lexer": "ipython3",
   "version": "3.6.5"
  }
 },
 "nbformat": 4,
 "nbformat_minor": 2
}
